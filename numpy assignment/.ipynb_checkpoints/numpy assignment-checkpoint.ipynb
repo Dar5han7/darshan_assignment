{
 "cells": [
  {
   "cell_type": "code",
   "execution_count": 8,
   "metadata": {},
   "outputs": [],
   "source": [
    "import numpy as np\n",
    "def vander_f(array, n, increase = False):\n",
    "    if increase:\n",
    "        out_mat = np.mat([x**i for x in array for i in range(n)]).reshape(array.size,n)\n",
    "    else:\n",
    "        out_mat = np.mat([x**(n-i-1) for x in array for i in range(n)]).reshape(array.size,n)\n",
    "    return out_mat\n",
    "        \n",
    "        "
   ]
  },
  {
   "cell_type": "code",
   "execution_count": 11,
   "metadata": {},
   "outputs": [
    {
     "data": {
      "text/plain": [
       "matrix([[  1,   1,   1,   1,   1],\n",
       "        [  1,  -1,   1,  -1,   1],\n",
       "        [  1,   3,   9,  27,  81],\n",
       "        [  1,   4,  16,  64, 256]])"
      ]
     },
     "execution_count": 11,
     "metadata": {},
     "output_type": "execute_result"
    }
   ],
   "source": [
    "arr = np.array([1,-1,3,4])\n",
    "n = 5\n",
    "vander_f(arr,n,True)"
   ]
  },
  {
   "cell_type": "code",
   "execution_count": 12,
   "metadata": {},
   "outputs": [
    {
     "data": {
      "text/plain": [
       "matrix([[  1,   1,   1,   1,   1],\n",
       "        [  1,  -1,   1,  -1,   1],\n",
       "        [ 81,  27,   9,   3,   1],\n",
       "        [256,  64,  16,   4,   1]])"
      ]
     },
     "execution_count": 12,
     "metadata": {},
     "output_type": "execute_result"
    }
   ],
   "source": [
    "vander_f(arr,n)"
   ]
  },
  {
   "cell_type": "code",
   "execution_count": 4,
   "metadata": {},
   "outputs": [
    {
     "name": "stdout",
     "output_type": "stream",
     "text": [
      "y1 : 15\n",
      "y2 : 14\n",
      "y3 : 17\n",
      "y4 : 20\n",
      "y5 : 29\n",
      "y6 : 86\n",
      "y7 : 148\n",
      "y8 : 218\n",
      "y9 : 252\n",
      "y10 : 280\n",
      "y11 : 349\n"
     ]
    }
   ],
   "source": [
    "from functools import reduce\n",
    "def moving_avg(arr, win):\n",
    "    l = len(arr)\n",
    "    j=0\n",
    "    nl = l-win+1\n",
    "    inp =[]\n",
    "    for k in range(nl):\n",
    "        value = reduce(lambda a,b : a+b,arr[j:j+win])\n",
    "        j=j+1\n",
    "        inp.append(value)\n",
    "    \n",
    "    return inp\n",
    "arr = [3, 5, 7, 2, 8, 10, 11, 65, 72, 81, 99, 100, 150]\n",
    "n = 3\n",
    "for i ,j in enumerate(moving_avg(arr,n)):\n",
    "    print (\"y{} : {}\".format(i+1,j))\n",
    "            \n",
    "        \n",
    "        "
   ]
  },
  {
   "cell_type": "code",
   "execution_count": null,
   "metadata": {},
   "outputs": [],
   "source": []
  }
 ],
 "metadata": {
  "kernelspec": {
   "display_name": "Python 3",
   "language": "python",
   "name": "python3"
  },
  "language_info": {
   "codemirror_mode": {
    "name": "ipython",
    "version": 3
   },
   "file_extension": ".py",
   "mimetype": "text/x-python",
   "name": "python",
   "nbconvert_exporter": "python",
   "pygments_lexer": "ipython3",
   "version": "3.7.6"
  }
 },
 "nbformat": 4,
 "nbformat_minor": 4
}
