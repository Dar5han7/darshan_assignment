{
 "cells": [
  {
   "cell_type": "code",
   "execution_count": 36,
   "metadata": {},
   "outputs": [],
   "source": [
    "class Area:\n",
    "    def __init__(self):\n",
    "        entry= False\n",
    "        while entry == False: \n",
    "            try:\n",
    "                a = input(\"Enter first side of a triangle\").strip()\n",
    "                b = input(\"Enter second side of a triangle\").strip()\n",
    "                c = input(\"Enter third side of a triangle\").strip()\n",
    "                self.a = int(a)\n",
    "                self.b = int(b)\n",
    "                self.c = int(c)\n",
    "                entry = True\n",
    "            except Exception:\n",
    "                print(\"Enter valid number\")\n",
    "        self.peri = (self.a+self.b+self.c)/2\n",
    "        \n",
    "class Triangle(Area):\n",
    "    def calc(self):\n",
    "        self.area = (self.peri*(self.peri - self.a)*(self.peri - self.b)*(self.peri - self.c))**0.5\n",
    "        return self.area"
   ]
  },
  {
   "cell_type": "code",
   "execution_count": 37,
   "metadata": {},
   "outputs": [
    {
     "name": "stdout",
     "output_type": "stream",
     "text": [
      "Enter first side of a triangle12\n",
      "Enter second side of a triangle14\n",
      "Enter third side of a triangle15\n",
      "12\n",
      "14\n",
      "15\n",
      "20.5\n",
      "78.92678569408487\n"
     ]
    }
   ],
   "source": [
    "tri = Triangle()\n",
    "print(tri.a)\n",
    "print(tri.b)\n",
    "print(tri.c)\n",
    "print(tri.peri)\n",
    "print(tri.calc())\n"
   ]
  },
  {
   "cell_type": "code",
   "execution_count": 38,
   "metadata": {},
   "outputs": [],
   "source": [
    " def filter_long_words(words,length):\n",
    "        coll = []\n",
    "        for word in words:\n",
    "            if len(word)> length:\n",
    "                coll.append(word)\n",
    "        return coll"
   ]
  },
  {
   "cell_type": "code",
   "execution_count": 40,
   "metadata": {},
   "outputs": [
    {
     "name": "stdout",
     "output_type": "stream",
     "text": [
      "['ghfggjgjgjgj']\n"
     ]
    }
   ],
   "source": [
    "words =[\"hghgh\",\"ghfggjgjgjgj\",\"sgbfysagy\",\"hdfgedg\",\"jhdfgbjhe\",\"khgvbdbf\",\"hadbvj\",\"jhc\"]\n",
    "print(filter_long_words(words,9))"
   ]
  },
  {
   "cell_type": "code",
   "execution_count": 41,
   "metadata": {},
   "outputs": [
    {
     "name": "stdout",
     "output_type": "stream",
     "text": [
      "[5, 12, 9, 7, 9, 8, 6, 3]\n"
     ]
    }
   ],
   "source": [
    "def word_length(word):\n",
    "\n",
    "        length = len(word)\n",
    "    \n",
    "        return length\n",
    "    \n",
    "a = map(lambda x:word_length(x),words)\n",
    "print(list(a))"
   ]
  },
  {
   "cell_type": "code",
   "execution_count": 42,
   "metadata": {},
   "outputs": [],
   "source": [
    "def vowel(word):\n",
    "    vow = [\"a\",\"e\",\"i\",\"o\",\"u\"]\n",
    "    if any(i in vow for i in word):\n",
    "        print(True)\n",
    "    else:\n",
    "        print(False)\n"
   ]
  },
  {
   "cell_type": "code",
   "execution_count": 44,
   "metadata": {},
   "outputs": [
    {
     "name": "stdout",
     "output_type": "stream",
     "text": [
      "True\n"
     ]
    }
   ],
   "source": [
    "vowel(\"hhhhi\")"
   ]
  },
  {
   "cell_type": "code",
   "execution_count": null,
   "metadata": {},
   "outputs": [],
   "source": []
  }
 ],
 "metadata": {
  "kernelspec": {
   "display_name": "Python 3",
   "language": "python",
   "name": "python3"
  },
  "language_info": {
   "codemirror_mode": {
    "name": "ipython",
    "version": 3
   },
   "file_extension": ".py",
   "mimetype": "text/x-python",
   "name": "python",
   "nbconvert_exporter": "python",
   "pygments_lexer": "ipython3",
   "version": "3.7.6"
  }
 },
 "nbformat": 4,
 "nbformat_minor": 4
}
