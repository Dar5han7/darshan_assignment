{
 "cells": [
  {
   "cell_type": "code",
   "execution_count": 2,
   "metadata": {},
   "outputs": [],
   "source": [
    "def my_reduce(function,collection,initial=None):\n",
    "    itr = iter(collection)\n",
    "    if initial != None:\n",
    "        value = initial \n",
    "    else:\n",
    "        value = next(itr)   \n",
    "    for elements in itr:\n",
    "        value = function(value,elements)        \n",
    "    return value  "
   ]
  },
  {
   "cell_type": "code",
   "execution_count": 3,
   "metadata": {},
   "outputs": [
    {
     "name": "stdout",
     "output_type": "stream",
     "text": [
      "10\n"
     ]
    }
   ],
   "source": [
    "numbers = [1, 2, 3, 4]\n",
    "h = lambda a, b: a + b\n",
    "print(my_reduce(h, numbers))"
   ]
  },
  {
   "cell_type": "code",
   "execution_count": 9,
   "metadata": {
    "scrolled": true
   },
   "outputs": [],
   "source": [
    "def my_filter(function,collection):\n",
    "    value=[]\n",
    "    for elements in collection:\n",
    "        if function(elements)==True:\n",
    "            value.append(elements)    \n",
    "    return value  "
   ]
  },
  {
   "cell_type": "code",
   "execution_count": 10,
   "metadata": {},
   "outputs": [
    {
     "name": "stdout",
     "output_type": "stream",
     "text": [
      "[0, 2, 8]\n"
     ]
    }
   ],
   "source": [
    "seq = [0, 1, 2, 3, 5, 8, 13] \n",
    "h= lambda x: x % 2 == 0 \n",
    "print(my_filter(h,seq))"
   ]
  },
  {
   "cell_type": "code",
   "execution_count": 63,
   "metadata": {},
   "outputs": [
    {
     "name": "stdout",
     "output_type": "stream",
     "text": [
      "['x', 'y', 'z', 'xx', 'yy', 'zz', 'xxx', 'yyy', 'zzz', 'xxxx', 'yyyy', 'zzzz']\n",
      "['x', 'xx', 'xxx', 'xxxx', 'y', 'yy', 'yyy', 'yyyy', 'z', 'zz', 'zzz', 'zzzz']\n",
      "[[2], [3], [4], [3], [4], [5], [4], [5], [6]]\n",
      "[[2, 3, 4, 5], [3, 4, 5, 6], [4, 5, 6, 7], [5, 6, 7, 8]]\n",
      "[(1, 1), (2, 1), (3, 1), (1, 2), (2, 2), (3, 2), (1, 3), (2, 3), (3, 3)]\n"
     ]
    }
   ],
   "source": [
    "l=[\"x\",\"y\",\"z\"]\n",
    "h = [l[i]*j for j in range(1,5) for i in range(0,3)]\n",
    "g = [l[j]*i for j in range(0,3) for i in range(1,5)]\n",
    "k = [[i] for j in range(1,4) for i in range(j+1,j+4)]\n",
    "d = [[i for i in range(j+1,j+5)] for j in range(1,5)]\n",
    "n = [(i,j) for j in range(1,4) for i in range(1,4)]\n",
    "\n",
    "print(h)\n",
    "print(g)\n",
    "print(k)\n",
    "print(d)\n",
    "print(n)"
   ]
  },
  {
   "cell_type": "code",
   "execution_count": null,
   "metadata": {},
   "outputs": [],
   "source": []
  }
 ],
 "metadata": {
  "kernelspec": {
   "display_name": "Python 3",
   "language": "python",
   "name": "python3"
  },
  "language_info": {
   "codemirror_mode": {
    "name": "ipython",
    "version": 3
   },
   "file_extension": ".py",
   "mimetype": "text/x-python",
   "name": "python",
   "nbconvert_exporter": "python",
   "pygments_lexer": "ipython3",
   "version": "3.7.6"
  }
 },
 "nbformat": 4,
 "nbformat_minor": 4
}
