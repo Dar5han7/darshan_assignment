{
 "cells": [
  {
   "cell_type": "markdown",
   "metadata": {},
   "source": [
    "# Calculate the mean, median, mode and standard deviation for the problem statements 1& 2."
   ]
  },
  {
   "cell_type": "code",
   "execution_count": 1,
   "metadata": {},
   "outputs": [],
   "source": [
    "import functools\n",
    "\n",
    "def mean(collection):\n",
    "    total = functools.reduce(lambda a,b : a+b,collection)\n",
    "    count =len(collection)\n",
    "    mean = total/count\n",
    "    return mean"
   ]
  },
  {
   "cell_type": "code",
   "execution_count": 2,
   "metadata": {},
   "outputs": [],
   "source": [
    "def median(collection):\n",
    "    count =len(collection)\n",
    "    s=sorted(collection)\n",
    "    if count%2!=0:\n",
    "        median =s[int(count/2)]\n",
    "    else:\n",
    "        median = (s[int(count/2)]+s[int(count/2)+1])/2\n",
    "    return median"
   ]
  },
  {
   "cell_type": "code",
   "execution_count": 3,
   "metadata": {},
   "outputs": [],
   "source": [
    "def std_deviation(collection):\n",
    "    m = mean(collection)\n",
    "    count =len(collection)\n",
    "    mean_sq = map(lambda x: (x - m)**2, collection)\n",
    "    sum_mean_sq = functools.reduce(lambda a,b : a+b,list(mean_sq))\n",
    "    variance = sum_mean_sq/count\n",
    "    std = variance**0.5\n",
    "    return round(std,2)"
   ]
  },
  {
   "cell_type": "markdown",
   "metadata": {},
   "source": [
    "# Problem Statement 1:\n",
    "\n",
    "\n",
    "The marks awarded for an assignment set for a Year 8 class of 20 students were as\n",
    "follows:\n",
    "6 7 5 7 7 8 7 6 9 7 4 10 6 8 8 9 5 6 4 8"
   ]
  },
  {
   "cell_type": "code",
   "execution_count": 4,
   "metadata": {},
   "outputs": [],
   "source": [
    "l = [6, 7, 5, 7, 7, 8, 7, 6, 9, 7, 4, 10, 6, 8, 8, 9, 5, 6, 4, 8]"
   ]
  },
  {
   "cell_type": "code",
   "execution_count": 5,
   "metadata": {
    "scrolled": true
   },
   "outputs": [
    {
     "name": "stdout",
     "output_type": "stream",
     "text": [
      "6.85\n"
     ]
    }
   ],
   "source": [
    "print(mean(l))"
   ]
  },
  {
   "cell_type": "code",
   "execution_count": 6,
   "metadata": {},
   "outputs": [
    {
     "name": "stdout",
     "output_type": "stream",
     "text": [
      "7.0\n"
     ]
    }
   ],
   "source": [
    "print(median(l))"
   ]
  },
  {
   "cell_type": "code",
   "execution_count": 7,
   "metadata": {},
   "outputs": [
    {
     "name": "stdout",
     "output_type": "stream",
     "text": [
      "1.59\n"
     ]
    }
   ],
   "source": [
    "print(std_deviation(l))"
   ]
  },
  {
   "cell_type": "markdown",
   "metadata": {},
   "source": [
    "# Problem Statement 2:\n",
    "\n",
    "The number of calls from motorists per day for roadside service was recorded for a\n",
    "particular month:\n",
    "28, 122, 217, 130, 120, 86, 80, 90, 140, 120, 70, 40, 145, 113, 90, 68, 174, 194, 170, 100, 75, 104, 97, 75, 123, 100, 75, 104, 97, 75, 123, 100, 89, 120, 109"
   ]
  },
  {
   "cell_type": "code",
   "execution_count": 8,
   "metadata": {},
   "outputs": [],
   "source": [
    "m = [28, 122, 217, 130, 120, 86, 80, 90, 140, 120, 70, 40, 145, 113, 90, 68, 174, 194, 170, 100, 75, 104, 97, 75, 123, 100, 75, 104, 97, 75, 123, 100, 89, 120, 109]"
   ]
  },
  {
   "cell_type": "code",
   "execution_count": 9,
   "metadata": {},
   "outputs": [
    {
     "name": "stdout",
     "output_type": "stream",
     "text": [
      "107.51428571428572\n"
     ]
    }
   ],
   "source": [
    "print(mean(m))"
   ]
  },
  {
   "cell_type": "code",
   "execution_count": 10,
   "metadata": {},
   "outputs": [
    {
     "name": "stdout",
     "output_type": "stream",
     "text": [
      "100\n"
     ]
    }
   ],
   "source": [
    "print(median(m))"
   ]
  },
  {
   "cell_type": "code",
   "execution_count": 11,
   "metadata": {},
   "outputs": [
    {
     "name": "stdout",
     "output_type": "stream",
     "text": [
      "38.77\n"
     ]
    }
   ],
   "source": [
    "print(std_deviation(m))"
   ]
  },
  {
   "cell_type": "markdown",
   "metadata": {},
   "source": [
    "# Problem Statement 3:\n",
    "The number of times I go to the gym in weekdays, are given below along with its\n",
    "associated probability:\n",
    "x = 0, 1, 2, 3, 4, 5\n",
    "f(x) = 0.09, 0.15, 0.40, 0.25, 0.10, 0.01\n",
    "Calculate the mean no. of workouts in a week. Also evaluate the variance involved in\n",
    "it."
   ]
  },
  {
   "cell_type": "code",
   "execution_count": 12,
   "metadata": {},
   "outputs": [],
   "source": [
    "w = [0.09, 0.15, 0.40, 0.25, 0.10, 0.01]"
   ]
  },
  {
   "cell_type": "code",
   "execution_count": 15,
   "metadata": {},
   "outputs": [
    {
     "name": "stdout",
     "output_type": "stream",
     "text": [
      "0.16666666666666666\n"
     ]
    }
   ],
   "source": [
    "print(mean(w))"
   ]
  },
  {
   "cell_type": "markdown",
   "metadata": {},
   "source": [
    "# print(std_deviation(w)**2)"
   ]
  },
  {
   "cell_type": "markdown",
   "metadata": {},
   "source": [
    "# Problem Statement 4:\n",
    "\n",
    "Let the continuous random variable D denote the diameter of the hole drilled in an\n",
    "aluminum sheet. The target diameter to be achieved is 12.5mm. Random\n",
    "disturbances in the process often result in inaccuracy.\n",
    "Historical data shows that the distribution of D can be modelled by the PDF (𝑑) =\n",
    "20𝑒−20(𝑑−12.5), 𝑑 ≥ 12.5. If a part with diameter > 12.6 mm needs to be scrapped,\n",
    "what is the proportion of those parts? What is the CDF when the diameter is of 11\n",
    "mm? What is your conclusion regarding the proportion of scraps?"
   ]
  },
  {
   "cell_type": "markdown",
   "metadata": {},
   "source": [
    "for pdf(d) =0"
   ]
  },
  {
   "cell_type": "code",
   "execution_count": 22,
   "metadata": {},
   "outputs": [
    {
     "name": "stdout",
     "output_type": "stream",
     "text": [
      "12.5 2.220446049250313e-16\n"
     ]
    }
   ],
   "source": [
    "import numpy as np\n",
    "float_epsilon = np.finfo(float).eps\n",
    "d=float_epsilon+12.5\n",
    "print(d,float_epsilon)"
   ]
  },
  {
   "cell_type": "markdown",
   "metadata": {},
   "source": [
    "# Problem Statement 5:\n",
    "\n",
    "A company manufactures LED bulbs with a faulty rate of 30%. If I randomly select 6\n",
    "chosen LEDs, what is the probability of having 2 faulty LEDs in my sample?\n",
    "Calculate the average value of this process. Also evaluate the standard deviation\n",
    "associated with it."
   ]
  },
  {
   "cell_type": "code",
   "execution_count": 26,
   "metadata": {},
   "outputs": [
    {
     "name": "stdout",
     "output_type": "stream",
     "text": [
      "15.0\n"
     ]
    }
   ],
   "source": [
    "event = 6*5/2*1\n",
    "print(event)"
   ]
  },
  {
   "cell_type": "code",
   "execution_count": 38,
   "metadata": {},
   "outputs": [
    {
     "name": "stdout",
     "output_type": "stream",
     "text": [
      "1.8\n"
     ]
    }
   ],
   "source": [
    "faulty = 6 *30/100\n",
    "print(faulty)"
   ]
  },
  {
   "cell_type": "code",
   "execution_count": 39,
   "metadata": {},
   "outputs": [
    {
     "name": "stdout",
     "output_type": "stream",
     "text": [
      "0.03333333333333333\n"
     ]
    }
   ],
   "source": [
    "probability = 1/2/event\n",
    "print(probability)"
   ]
  },
  {
   "cell_type": "code",
   "execution_count": 40,
   "metadata": {},
   "outputs": [],
   "source": [
    "variance = ((2-1.8)**2)/6"
   ]
  },
  {
   "cell_type": "code",
   "execution_count": 41,
   "metadata": {},
   "outputs": [
    {
     "data": {
      "text/plain": [
       "0.08164965809277258"
      ]
     },
     "execution_count": 41,
     "metadata": {},
     "output_type": "execute_result"
    }
   ],
   "source": [
    "std = variance**0.5\n",
    "std"
   ]
  },
  {
   "cell_type": "markdown",
   "metadata": {},
   "source": [
    "# Problem Statement 6:\n",
    "\n",
    "Gaurav and Barakha are both preparing for entrance exams. Gaurav attempts to\n",
    "solve 8 questions per day with a correction rate of 75%, while Barakha averages\n",
    "around 12 questions per day with a correction rate of 45%. What is the probability\n",
    "that each of them will solve 5 questions correctly? What happens in cases of 4 and 6\n",
    "correct solutions? What do you infer from it? What are the two main governing\n",
    "factors affecting their ability to solve questions correctly? Give a pictorial\n",
    "representation of the same to validate your answer."
   ]
  },
  {
   "cell_type": "code",
   "execution_count": 42,
   "metadata": {},
   "outputs": [],
   "source": [
    "gaurav_corr = 6"
   ]
  },
  {
   "cell_type": "code",
   "execution_count": 54,
   "metadata": {},
   "outputs": [],
   "source": [
    "barkha_corr = 5.4"
   ]
  },
  {
   "cell_type": "markdown",
   "metadata": {},
   "source": [
    "probability of solving 5 questions correctly is 100%"
   ]
  },
  {
   "cell_type": "markdown",
   "metadata": {},
   "source": [
    "if it is 4 is would be 100% and for 6 is 0% as barkha as a upperlimit of 5"
   ]
  },
  {
   "cell_type": "markdown",
   "metadata": {},
   "source": [
    "solving a required no of question correctly depends on the no of question solved per day and correcction rate"
   ]
  },
  {
   "cell_type": "markdown",
   "metadata": {},
   "source": [
    "# Problem Statement 7:\n",
    "\n",
    "Customers arrive at a rate of 72 per hour to my shop. What is the probability of 𝑘\n",
    "customers arriving in 4 minutes? a) 5 customers, b) not more than 3 customers, c)\n",
    "more than 3 customers. Give a pictorial representation of the same to validate your\n",
    "answer."
   ]
  },
  {
   "cell_type": "code",
   "execution_count": 58,
   "metadata": {},
   "outputs": [
    {
     "data": {
      "text/plain": [
       "1.2"
      ]
     },
     "execution_count": 58,
     "metadata": {},
     "output_type": "execute_result"
    }
   ],
   "source": [
    "per_min = 72/60\n",
    "per_min"
   ]
  },
  {
   "cell_type": "code",
   "execution_count": 59,
   "metadata": {},
   "outputs": [
    {
     "data": {
      "text/plain": [
       "4.8"
      ]
     },
     "execution_count": 59,
     "metadata": {},
     "output_type": "execute_result"
    }
   ],
   "source": [
    "four_min=4*1.2\n",
    "four_min"
   ]
  },
  {
   "cell_type": "markdown",
   "metadata": {},
   "source": [
    "5 customer - 0%\n",
    "not more than 3 customer - 0%\n",
    "more than 3 customer - 100%"
   ]
  },
  {
   "cell_type": "markdown",
   "metadata": {},
   "source": [
    "# Problem Statement 8:\n",
    "\n",
    "I work as a data analyst in Aeon Learning Pvt. Ltd. After analyzing data, I make\n",
    "reports, where I have the efficiency of entering 77 words per minute with 6 errors per\n",
    "hour. What is the probability that I will commit 2 errors in a 455-word financial report?\n",
    "What happens when the no. of words increases/decreases (in case of 1000 words,\n",
    "255 words)?\n",
    "How is the 𝜆 affected?\n",
    "How does it influence the PMF?\n",
    "Give a pictorial representation of the same to validate your answer."
   ]
  },
  {
   "cell_type": "markdown",
   "metadata": {},
   "source": [
    "# Problem Statement 9:\n",
    "Let the continuous random variable D denote the diameter of the hole drilled in an\n",
    "aluminum sheet. The target diameter to be achieved is 12.5mm. Random\n",
    "disturbances in the process often result in inaccuracy.\n",
    "Historical data shows that the distribution of D can be modelled by the PDF, f(d) =\n",
    "20e−20(d−12.5), d ≥ 12.5. If a part with diameter > 12.6 mm needs to be scrapped,\n",
    "what is the proportion of those parts? What is the CDF when the diameter is of 11\n",
    "mm?\n",
    "What is the conclusion of this experiment?"
   ]
  },
  {
   "cell_type": "markdown",
   "metadata": {},
   "source": [
    "# Problem Statement 10:\n",
    "Please compute the following:\n",
    "a) P(Z > 1.26), . P(Z < −0.86), P(Z > −1.37), P(−1.25 < Z < 0.37), . P(Z ≤ −4.6)\n",
    "b) Find the value 𝑧 such that 𝑃(𝑍 > 𝑧) = 0.05\n",
    "c) Find the value of 𝑧 such that 𝑃(−𝑧 < 𝑍 < 𝑧) = 0.99"
   ]
  },
  {
   "cell_type": "markdown",
   "metadata": {},
   "source": [
    "# Problem Statement 11:\n",
    "The current flow in a copper wire follow a normal distribution with a mean of 10 𝑚A\n",
    "and a variance of 4 (𝑚𝐴)2.\n",
    "What is the probability that a current measurement will exceed 13 𝑚𝐴? What is the\n",
    "probability that a current measurement is between 9 and 11mA? Determine the\n",
    "current measurement which has a probability of 0.98."
   ]
  },
  {
   "cell_type": "markdown",
   "metadata": {},
   "source": [
    "# Problem Statement 12:\n",
    "The shaft in a piston has its diameter normally distributed with a mean of 0.2508 inch\n",
    "and a standard deviation of 0.0005 inch. The specifications of the shaft are 0.2500 ∓\n",
    "0.0015 inch. What proportion of shafts are in sync with the specifications? If the\n",
    "process is centered so that the mean is equal to the target value of 0.2500, what\n",
    "proportion of shafts conform to the new specifications? What is your conclusion from\n",
    "this experiment?"
   ]
  },
  {
   "cell_type": "code",
   "execution_count": null,
   "metadata": {},
   "outputs": [],
   "source": []
  }
 ],
 "metadata": {
  "kernelspec": {
   "display_name": "Python 3",
   "language": "python",
   "name": "python3"
  },
  "language_info": {
   "codemirror_mode": {
    "name": "ipython",
    "version": 3
   },
   "file_extension": ".py",
   "mimetype": "text/x-python",
   "name": "python",
   "nbconvert_exporter": "python",
   "pygments_lexer": "ipython3",
   "version": "3.8.5"
  }
 },
 "nbformat": 4,
 "nbformat_minor": 4
}
